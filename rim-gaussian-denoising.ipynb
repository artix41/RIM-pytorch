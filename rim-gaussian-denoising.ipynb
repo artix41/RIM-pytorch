{
 "cells": [
  {
   "cell_type": "markdown",
   "metadata": {},
   "source": [
    "# Recurrent Inference Machine (RIM) on a toy problem"
   ]
  },
  {
   "cell_type": "code",
   "execution_count": 1,
   "metadata": {
    "collapsed": true
   },
   "outputs": [],
   "source": [
    "import numpy as np\n",
    "import matplotlib.pyplot as plt\n",
    "%matplotlib inline\n",
    "from itertools import cycle\n",
    "from tqdm import tqdm\n",
    "\n",
    "import torch\n",
    "import torch.nn as nn\n",
    "import torch.nn.functional as f\n",
    "from torch.autograd import Variable\n",
    "\n",
    "import torchvision.datasets as datasets\n",
    "import torchvision.transforms as transforms\n",
    "\n",
    "from sklearn.utils import shuffle\n",
    "from IPython.display import clear_output"
   ]
  },
  {
   "cell_type": "code",
   "execution_count": 2,
   "metadata": {
    "collapsed": true
   },
   "outputs": [],
   "source": [
    "colormap = np.array(plt.rcParams['axes.prop_cycle'].by_key()['color'])"
   ]
  },
  {
   "cell_type": "markdown",
   "metadata": {},
   "source": [
    "## Create the simulator and the data\n",
    "The simulator is defined as $y=x + n$ where $n \\sim \\mathcal{N}(0,\\sigma^2)$ with $\\sigma$ known. The loss will then be defined to be $\\mathcal{L}(x,y)=\\frac{1}{2} x^T x - y^T x$."
   ]
  },
  {
   "cell_type": "markdown",
   "metadata": {},
   "source": [
    "### Constants"
   ]
  },
  {
   "cell_type": "code",
   "execution_count": 3,
   "metadata": {
    "collapsed": true
   },
   "outputs": [],
   "source": [
    "nb_samples = 100\n",
    "batch_size = 16\n",
    "time_max_rim = 5\n",
    "time_max_gd = 60\n",
    "nb_epochs = 2\n",
    "sigma_noise = 0.2\n",
    "\n",
    "size_train = 400\n",
    "size_test = 100"
   ]
  },
  {
   "cell_type": "code",
   "execution_count": 4,
   "metadata": {
    "collapsed": true
   },
   "outputs": [],
   "source": [
    "folder_mnist = \"/datasets/mnist/\""
   ]
  },
  {
   "cell_type": "markdown",
   "metadata": {},
   "source": [
    "### Simulator"
   ]
  },
  {
   "cell_type": "code",
   "execution_count": 12,
   "metadata": {},
   "outputs": [
    {
     "data": {
      "text/plain": [
       "array([ 0.5,  1. ])"
      ]
     },
     "execution_count": 12,
     "metadata": {},
     "output_type": "execute_result"
    }
   ],
   "source": [
    "a = np.array([0.5,1.2])\n",
    "np.minimum(1,a)"
   ]
  },
  {
   "cell_type": "code",
   "execution_count": 13,
   "metadata": {
    "collapsed": true
   },
   "outputs": [],
   "source": [
    "def simulate(x, sigma=0.1):\n",
    "    return np.minimum(1, np.maximum(0, x + np.random.normal(0, sigma, x.shape)))"
   ]
  },
  {
   "cell_type": "code",
   "execution_count": 14,
   "metadata": {
    "collapsed": true
   },
   "outputs": [],
   "source": [
    "def loss(x, y):\n",
    "    return 0.5 * x.T.dot(x) -  y.T.dot(x)"
   ]
  },
  {
   "cell_type": "code",
   "execution_count": 15,
   "metadata": {
    "collapsed": true
   },
   "outputs": [],
   "source": [
    "def gradient(x, y):\n",
    "    return x - y"
   ]
  },
  {
   "cell_type": "markdown",
   "metadata": {},
   "source": [
    "### Data"
   ]
  },
  {
   "cell_type": "markdown",
   "metadata": {},
   "source": [
    "#### Training"
   ]
  },
  {
   "cell_type": "code",
   "execution_count": 16,
   "metadata": {},
   "outputs": [],
   "source": [
    "mnist_train = datasets.MNIST(root=folder_mnist, train=True, download=False, transform=transforms.ToTensor())"
   ]
  },
  {
   "cell_type": "code",
   "execution_count": 17,
   "metadata": {},
   "outputs": [],
   "source": [
    "X_train = mnist_train.train_data.numpy()[:size_train].reshape(size_train, 784) / 255\n",
    "Y_train = simulate(X_train, sigma_noise)\n",
    "X0_train = Y_train"
   ]
  },
  {
   "cell_type": "markdown",
   "metadata": {},
   "source": [
    "#### Test"
   ]
  },
  {
   "cell_type": "code",
   "execution_count": 20,
   "metadata": {
    "collapsed": true
   },
   "outputs": [],
   "source": [
    "mnist_test = datasets.MNIST(root=folder_mnist, train=False, download=False, transform=transforms.ToTensor())"
   ]
  },
  {
   "cell_type": "code",
   "execution_count": 21,
   "metadata": {},
   "outputs": [],
   "source": [
    "X_test = mnist_test.test_data.numpy()[:size_test].reshape(size_test, 784) / 255\n",
    "Y_test = simulate(X_test, sigma_noise)\n",
    "X0_test = Y_test"
   ]
  },
  {
   "cell_type": "markdown",
   "metadata": {},
   "source": [
    "#### Visualization"
   ]
  },
  {
   "cell_type": "code",
   "execution_count": 22,
   "metadata": {},
   "outputs": [
    {
     "data": {
      "text/plain": [
       "<matplotlib.image.AxesImage at 0x7f3cbe9c5940>"
      ]
     },
     "execution_count": 22,
     "metadata": {},
     "output_type": "execute_result"
    },
    {
     "data": {
      "image/png": "[encoded data removed]",
      "text/plain": [
       "<matplotlib.figure.Figure at 0x7f3c669eeef0>"
      ]
     },
     "metadata": {},
     "output_type": "display_data"
    }
   ],
   "source": [
    "plt.rcParams['figure.figsize'] = (10, 8)\n",
    "\n",
    "plt.subplot(1,2,1)\n",
    "plt.imshow(X_train[0].reshape(28,28))\n",
    "\n",
    "plt.subplot(1,2,2)\n",
    "plt.imshow(Y_train[0].reshape(28,28))"
   ]
  },
  {
   "cell_type": "markdown",
   "metadata": {},
   "source": [
    "## RNN\n",
    "Deep RNN based on [this diagram](https://stackoverflow.com/questions/48302810/whats-the-difference-between-hidden-and-output-in-pytorch-lstm?rq=1)"
   ]
  },
  {
   "cell_type": "code",
   "execution_count": 319,
   "metadata": {
    "collapsed": true
   },
   "outputs": [],
   "source": [
    "class RNN(nn.Module):\n",
    "    def __init__(self, input_size, hidden_size, output_size, init_variance=0.1):\n",
    "        super(RNN, self).__init__()\n",
    "        \n",
    "        self.input_size = input_size\n",
    "        self.hidden_size = hidden_size\n",
    "        self.output_size = output_size\n",
    "        \n",
    "        self.h1_layer = nn.Linear(input_size + hidden_size, hidden_size)\n",
    "        self.h2_layer = nn.Linear(hidden_size*2, hidden_size)\n",
    "        self.h3_layer = nn.Linear(hidden_size*2, hidden_size)\n",
    "        self.output_layer = nn.Linear(hidden_size*2, output_size)\n",
    "        \n",
    "        nn.init.xavier_normal(self.h1_layer.weight, init_variance)\n",
    "        nn.init.xavier_normal(self.h2_layer.weight, init_variance)\n",
    "        nn.init.xavier_normal(self.h3_layer.weight, init_variance)\n",
    "        nn.init.xavier_normal(self.output_layer.weight, init_variance)\n",
    "        \n",
    "    def forward(self, xt, st):\n",
    "        combined_h1 = torch.cat((xt, st[0]), 2)\n",
    "        h1 = self.h1_layer(combined_h1)\n",
    "        h1 = f.relu(h1)\n",
    "        \n",
    "        combined_h2 = torch.cat((h1,st[1]), 2)\n",
    "        h2 = self.h2_layer(combined_h2)\n",
    "        h2 = f.relu(h2)\n",
    "        \n",
    "        combined_h3 = torch.cat((h2,st[2]), 2)\n",
    "        h3 = self.h3_layer(combined_h3)\n",
    "        h3 = f.relu(h3)\n",
    "        \n",
    "        output = self.output_layer(combined_h3)\n",
    "        \n",
    "        return output, [h1, h2, h3]"
   ]
  },
  {
   "cell_type": "markdown",
   "metadata": {},
   "source": [
    "# RIM"
   ]
  },
  {
   "cell_type": "code",
   "execution_count": 320,
   "metadata": {
    "collapsed": true
   },
   "outputs": [],
   "source": [
    "def weight_loss(t, T):\n",
    "#     return t/T\n",
    "    return 1"
   ]
  },
  {
   "cell_type": "code",
   "execution_count": 321,
   "metadata": {},
   "outputs": [],
   "source": [
    "def psi(h):\n",
    "    x = f.relu(h)\n",
    "    x = 1-f.relu(-x+1)\n",
    "    return x"
   ]
  },
  {
   "cell_type": "code",
   "execution_count": 322,
   "metadata": {
    "collapsed": true
   },
   "outputs": [],
   "source": [
    "class RIM(nn.Module):\n",
    "    def __init__(self, input_size, hidden_size, output_size, time_max):\n",
    "        super(RIM, self).__init__()\n",
    "        \n",
    "        self.input_size = input_size\n",
    "        self.hidden_size = hidden_size\n",
    "        self.output_size = output_size\n",
    "        self.time_max = time_max\n",
    "        self.rnn = RNN(input_size, hidden_size, output_size)\n",
    "        \n",
    "        self.criterion = nn.MSELoss()\n",
    "        self.optimizer = torch.optim.Adam(self.parameters(), lr=0.001)\n",
    "        \n",
    "    def forward(self, ht, st, y):\n",
    "        input = Variable(torch.Tensor(np.concatenate([ht.data.numpy(), \n",
    "                                                      gradient(ht.data.numpy(), y)], 0).reshape(1, 1, self.input_size)))\n",
    "        out, st = self.rnn.forward(input, st)\n",
    "        return out.view(self.output_size), st\n",
    "    \n",
    "    def backprop(self, loss): \n",
    "        loss.backward()\n",
    "        self.optimizer.step()\n",
    "        self.optimizer.zero_grad()\n",
    "    \n",
    "    def forward_sequence(self, h0, y, x_true, phase=\"test\"): \n",
    "        ht = Variable(torch.Tensor(x0)) # xt = \\phi(ht) => see paper, where they use \\eta instead of h\n",
    "        st = [self.init_hidden(), self.init_hidden(), self.init_hidden()]\n",
    "        \n",
    "        loss = 0\n",
    "        list_xt = [x0]\n",
    "        for t in range(self.time_max):\n",
    "            dh, st = self.forward(ht, st, y)\n",
    "            ht = ht + dh\n",
    "            xt = psi(ht)\n",
    "            loss += weight_loss(t,self.time_max) * self.criterion(xt, Variable(torch.Tensor(x_true)))\n",
    "#             print(\"loss in loop\", loss)\n",
    "            list_xt.append(xt.data.numpy())\n",
    "#         print(\"loss forward sequence\", loss)\n",
    "            \n",
    "        list_xt = np.array(list_xt)\n",
    "        loss = loss / self.time_max\n",
    "        \n",
    "        if phase == \"train\":\n",
    "            self.backprop(loss)\n",
    "        \n",
    "        return list_xt, loss\n",
    "        \n",
    "    def train_batch(self, X_batch, Y_batch, X0_batch):\n",
    "        batch_loss = 0\n",
    "        for i in range(len(X_batch)):\n",
    "            x, y, x0 = X_batch[i], Y_batch[i], X0_batch[i]\n",
    "            \n",
    "            list_xt, loss = self.forward_sequence(x0, y, x, \"test\")\n",
    "#             print(\"loss train batch\", loss)\n",
    "            batch_loss += loss\n",
    "        \n",
    "        batch_loss /= len(X_batch)\n",
    "        self.backprop(batch_loss)\n",
    "        \n",
    "        return batch_loss.data.numpy()[0]\n",
    "    \n",
    "    def init_hidden(self):\n",
    "        return Variable(torch.zeros(1, 1, self.hidden_size))"
   ]
  },
  {
   "cell_type": "markdown",
   "metadata": {},
   "source": [
    "### Create the model"
   ]
  },
  {
   "cell_type": "code",
   "execution_count": 323,
   "metadata": {
    "collapsed": true
   },
   "outputs": [],
   "source": [
    "rim = RIM(X_train.shape[1]*2, X_train.shape[1], X_train.shape[1], time_max_rim)"
   ]
  },
  {
   "cell_type": "markdown",
   "metadata": {},
   "source": [
    "### Training"
   ]
  },
  {
   "cell_type": "code",
   "execution_count": 324,
   "metadata": {
    "collapsed": true
   },
   "outputs": [],
   "source": [
    "list_losses = []"
   ]
  },
  {
   "cell_type": "code",
   "execution_count": 325,
   "metadata": {},
   "outputs": [],
   "source": [
    "# rim.optimizer.param_groups[0][\"lr\"] /= 10"
   ]
  },
  {
   "cell_type": "code",
   "execution_count": null,
   "metadata": {},
   "outputs": [
    {
     "name": "stderr",
     "output_type": "stream",
     "text": [
      "\r",
      "  0%|          | 0/25 [00:00<?, ?it/s]"
     ]
    },
    {
     "name": "stdout",
     "output_type": "stream",
     "text": [
      "Epoch 10, loss: 0.037198\n"
     ]
    },
    {
     "name": "stderr",
     "output_type": "stream",
     "text": [
      " 28%|██▊       | 7/25 [00:08<00:20,  1.17s/it]"
     ]
    }
   ],
   "source": [
    "nb_epochs = 20\n",
    "\n",
    "for epoch in range(nb_epochs):\n",
    "    X_train, Y_train, X0_train = shuffle(X_train, Y_train, X0_train)\n",
    "    \n",
    "    loss_epoch = 0\n",
    "    for i_begin_batch in tqdm(range(0, size_train, batch_size)):\n",
    "        i_end_batch = (i_begin_batch+batch_size)\n",
    "        if i_end_batch > size_train:\n",
    "            next\n",
    "        X_batch, Y_batch = X_train[i_begin_batch:i_end_batch], Y_train[i_begin_batch:i_end_batch]\n",
    "        X0_batch = X0_train[i_begin_batch:i_end_batch]\n",
    "        loss_batch = rim.train_batch(X_batch, Y_batch, X0_batch)\n",
    "        loss_epoch += loss_batch\n",
    "        \n",
    "    loss_epoch /= (size_train // batch_size)\n",
    "    list_losses.append(loss_epoch)\n",
    "    \n",
    "    clear_output(wait=True)\n",
    "    print(\"Epoch {0}, loss: {1:05f}\".format(epoch,loss_epoch))"
   ]
  },
  {
   "cell_type": "code",
   "execution_count": 283,
   "metadata": {},
   "outputs": [
    {
     "data": {
      "text/plain": [
       "[<matplotlib.lines.Line2D at 0x7f3c447f6668>]"
      ]
     },
     "execution_count": 283,
     "metadata": {},
     "output_type": "execute_result"
    },
    {
     "data": {
      "image/png": "[encoded data removed]",
      "text/plain": [
       "<matplotlib.figure.Figure at 0x7f3c410da080>"
      ]
     },
     "metadata": {},
     "output_type": "display_data"
    }
   ],
   "source": [
    "plt.plot(list_losses)"
   ]
  },
  {
   "cell_type": "markdown",
   "metadata": {},
   "source": [
    "### Testing"
   ]
  },
  {
   "cell_type": "code",
   "execution_count": 284,
   "metadata": {
    "scrolled": true
   },
   "outputs": [],
   "source": [
    "list_xt_rim, losses = [], []\n",
    "for (x0, y, x) in zip(X0_test, Y_test, X_test):\n",
    "    list_xt, loss = rim.forward_sequence(x0, y, x, \"test\")\n",
    "    list_xt_rim.append(list_xt)\n",
    "    losses.append(loss.data.numpy()[0])\n",
    "list_xt_rim = np.array(list_xt_rim)\n",
    "losses = np.array(losses)"
   ]
  },
  {
   "cell_type": "markdown",
   "metadata": {},
   "source": [
    "### Plotting"
   ]
  },
  {
   "cell_type": "code",
   "execution_count": 285,
   "metadata": {
    "scrolled": true
   },
   "outputs": [
    {
     "name": "stdout",
     "output_type": "stream",
     "text": [
      "Loss: 0.012539\n"
     ]
    },
    {
     "data": {
      "text/plain": [
       "<matplotlib.text.Text at 0x7f3c40bbe6a0>"
      ]
     },
     "execution_count": 285,
     "metadata": {},
     "output_type": "execute_result"
    },
    {
     "data": {
      "image/png": "[encoded data removed]",
      "text/plain": [
       "<matplotlib.figure.Figure at 0x7f3c447f6390>"
      ]
     },
     "metadata": {},
     "output_type": "display_data"
    }
   ],
   "source": [
    "i_example = 48\n",
    "t_final = 4\n",
    "\n",
    "print(\"Loss: {0:5f}\".format(float(losses[i_example])))\n",
    "\n",
    "plt.rcParams['figure.figsize'] = (20,10)\n",
    "\n",
    "for i in range(1,6):\n",
    "    plt.subplot(1,6,i)\n",
    "    plt.imshow(list_xt_rim[i_example][i-1].reshape(28,28), vmin=0, vmax=1)\n",
    "    plt.title(\"t={}\".format(i-1))\n",
    "plt.subplot(1,6,6)\n",
    "plt.imshow(X_test[i_example].reshape(28,28))\n",
    "plt.title(\"Truth\")"
   ]
  },
  {
   "cell_type": "markdown",
   "metadata": {},
   "source": [
    "### Some statistics"
   ]
  },
  {
   "cell_type": "markdown",
   "metadata": {},
   "source": [
    "#### Distribution of the distance between the last points and x"
   ]
  },
  {
   "cell_type": "markdown",
   "metadata": {},
   "source": [
    "##### ... for x=x_true"
   ]
  },
  {
   "cell_type": "code",
   "execution_count": null,
   "metadata": {},
   "outputs": [],
   "source": [
    "binwidth = 0.5\n",
    "\n",
    "dist_rim = [np.linalg.norm(list_xt_rim[i][-1] - X_test[i]) for i in range(len(X_test))]\n",
    "dist_gd = [np.linalg.norm(list_xt_gd[i][-1] - X_test[i]) for i in range(len(X_test))]\n",
    "\n",
    "mean_rim = np.mean(dist_rim)\n",
    "mean_gd = np.mean(dist_gd)\n",
    "\n",
    "std_rim = np.std(dist_rim)\n",
    "std_gd = np.std(dist_gd)\n",
    "\n",
    "print(\"Average distance to true x with RIM: \", mean_rim)\n",
    "print(\"Average distance to true x with GD: \", mean_gd)\n",
    "\n",
    "print(\"STD distance to true x with RIM: \", std_rim)\n",
    "print(\"STD distance to true x with GD: \", std_gd)\n",
    "\n",
    "plt.subplot(1,2,1)\n",
    "plt.title(\"RIM\")\n",
    "hist = plt.hist(dist_rim, bins=np.arange(min(dist_rim), max(dist_rim) + binwidth, binwidth))\n",
    "# hist = plt.hist(dist_rim, bins=100)\n",
    "plt.xlim(0,20)\n",
    "\n",
    "plt.subplot(1,2,2)\n",
    "plt.title(\"GD\")\n",
    "hist = plt.hist(dist_gd, bins=np.arange(min(dist_gd), max(dist_gd) + binwidth, binwidth))\n",
    "# hist = plt.hist(dist_gd, bins=100)\n",
    "plt.xlim(0,20)"
   ]
  },
  {
   "cell_type": "markdown",
   "metadata": {},
   "source": [
    "##### ... for x=x_min"
   ]
  },
  {
   "cell_type": "code",
   "execution_count": null,
   "metadata": {},
   "outputs": [],
   "source": [
    "dist_rim = [np.linalg.norm(list_xt_rim[i][-1] - X_min_test[i]) for i in range(len(X_test))]\n",
    "dist_gd = [np.linalg.norm(list_xt_gd[i][-1] - X_min_test[i]) for i in range(len(X_test))]\n",
    "\n",
    "mean_rim = np.mean(dist_rim)\n",
    "mean_gd = np.mean(dist_gd)\n",
    "\n",
    "std_rim = np.std(dist_rim)\n",
    "std_gd = np.std(dist_gd)\n",
    "\n",
    "print(\"Average distance to min x with RIM: \", mean_rim)\n",
    "print(\"Average distance to min x with GD: \", mean_gd)\n",
    "\n",
    "print(\"STD distance to min x with RIM: \", std_rim)\n",
    "print(\"STD distance to min x with GD: \", std_gd)\n",
    "\n",
    "plt.subplot(1,2,1)\n",
    "plt.title(\"RIM\")\n",
    "hist = plt.hist(dist_rim, bins=np.arange(min(dist_rim), max(dist_rim) + binwidth, binwidth))\n",
    "plt.xlim(0,20)\n",
    "\n",
    "plt.subplot(1,2,2)\n",
    "plt.title(\"GD\")\n",
    "hist = plt.hist(dist_gd, bins=np.arange(min(dist_gd), max(dist_gd) + binwidth, binwidth))\n",
    "plt.xlim(0,20)"
   ]
  },
  {
   "cell_type": "markdown",
   "metadata": {},
   "source": [
    "#### Average distance in function of time"
   ]
  },
  {
   "cell_type": "markdown",
   "metadata": {},
   "source": [
    "##### ... to x=x_min"
   ]
  },
  {
   "cell_type": "code",
   "execution_count": null,
   "metadata": {},
   "outputs": [],
   "source": [
    "dist_mean_rim = [np.mean([np.linalg.norm(list_xt_rim[i][t] - X_min_test[i]) for i in range(len(X_test))]) for t in range(time_max_rim)]\n",
    "dist_mean_gd = [np.mean([np.linalg.norm(list_xt_gd[i][t] - X_min_test[i]) for i in range(len(X_test))]) for t in range(time_max_gd)]\n",
    "\n",
    "dist_std_rim = [np.std([np.linalg.norm(list_xt_rim[i][t] - X_min_test[i]) for i in range(len(X_test))]) for t in range(time_max_rim)]\n",
    "dist_std_gd = [np.std([np.linalg.norm(list_xt_gd[i][t] - X_min_test[i]) for i in range(len(X_test))]) for t in range(time_max_gd)]\n",
    "\n",
    "plt.subplot(1,2,1)\n",
    "plt.plot(dist_mean_rim, label=\"RIM\")\n",
    "plt.plot(dist_mean_gd, label=\"GD\")\n",
    "plt.legend()\n",
    "\n",
    "plt.subplot(1,2,2)\n",
    "plt.errorbar(np.arange(0,time_max_rim), dist_mean_rim, yerr=dist_std_rim, label=\"RIM\")\n",
    "plt.errorbar(np.arange(0,time_max_gd), dist_mean_gd, yerr=dist_std_gd, label=\"GD\")\n",
    "plt.legend()"
   ]
  },
  {
   "cell_type": "markdown",
   "metadata": {},
   "source": [
    "##### ... to x=x_true"
   ]
  },
  {
   "cell_type": "code",
   "execution_count": null,
   "metadata": {},
   "outputs": [],
   "source": [
    "dist_mean_rim = [np.mean([np.linalg.norm(list_xt_rim[i][t] - X_test[i]) for i in range(len(X_test))]) for t in range(time_max_rim)]\n",
    "dist_mean_gd = [np.mean([np.linalg.norm(list_xt_gd[i][t] - X_test[i]) for i in range(len(X_test))]) for t in range(time_max_gd)]\n",
    "\n",
    "dist_std_rim = [np.std([np.linalg.norm(list_xt_rim[i][t] - X_test[i]) for i in range(len(X_test))]) for t in range(time_max_rim)]\n",
    "dist_std_gd = [np.std([np.linalg.norm(list_xt_gd[i][t] - X_test[i]) for i in range(len(X_test))]) for t in range(time_max_gd)]\n",
    "\n",
    "plt.plot(dist_mean_rim, label=\"RIM\")\n",
    "plt.plot(dist_mean_gd, label=\"GD\")\n",
    "plt.legend()"
   ]
  },
  {
   "cell_type": "code",
   "execution_count": null,
   "metadata": {},
   "outputs": [],
   "source": [
    "hist = plt.hist(X_min_train, bins=100)\n",
    "# plt.xlim(-5,5)"
   ]
  },
  {
   "cell_type": "code",
   "execution_count": null,
   "metadata": {},
   "outputs": [],
   "source": [
    "hist = plt.hist(X_train)"
   ]
  },
  {
   "cell_type": "code",
   "execution_count": null,
   "metadata": {
    "collapsed": true
   },
   "outputs": [],
   "source": []
  },
  {
   "cell_type": "code",
   "execution_count": null,
   "metadata": {
    "collapsed": true
   },
   "outputs": [],
   "source": []
  }
 ],
 "metadata": {
  "kernelspec": {
   "display_name": "Python [default]",
   "language": "python",
   "name": "python3"
  },
  "language_info": {
   "codemirror_mode": {
    "name": "ipython",
    "version": 3
   },
   "file_extension": ".py",
   "mimetype": "text/x-python",
   "name": "python",
   "nbconvert_exporter": "python",
   "pygments_lexer": "ipython3",
   "version": "3.6.3"
  }
 },
 "nbformat": 4,
 "nbformat_minor": 2
}
